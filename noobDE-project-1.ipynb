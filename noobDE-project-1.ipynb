{
 "cells": [
  {
   "cell_type": "markdown",
   "id": "stone-olive",
   "metadata": {},
   "source": [
    "### Initializing Spark Session"
   ]
  },
  {
   "cell_type": "code",
   "execution_count": 1,
   "id": "engaging-subscriber",
   "metadata": {},
   "outputs": [],
   "source": [
    "from pyspark.sql import SparkSession\n",
    "\n",
    "spark = SparkSession.builder.appName(\"noobDE-project-1\").enableHiveSupport().getOrCreate()"
   ]
  },
  {
   "cell_type": "markdown",
   "id": "descending-corpus",
   "metadata": {},
   "source": [
    "### Reading data from hdfs\n",
    "\n",
    "start your hdfs daemons"
   ]
  },
  {
   "cell_type": "code",
   "execution_count": 2,
   "id": "biblical-conversion",
   "metadata": {},
   "outputs": [],
   "source": [
    "initial_data = spark.read.csv('hdfs://0.0.0.0:19000/data/covid.csv', header=True, inferSchema=True)"
   ]
  },
  {
   "cell_type": "code",
   "execution_count": 3,
   "id": "atlantic-switch",
   "metadata": {},
   "outputs": [
    {
     "name": "stdout",
     "output_type": "stream",
     "text": [
      "+----------+-----------+---------+---------+------+\n",
      "|      Date|    Country|Confirmed|Recovered|Deaths|\n",
      "+----------+-----------+---------+---------+------+\n",
      "|2020-01-22|Afghanistan|        0|        0|     0|\n",
      "|2020-01-23|Afghanistan|        0|        0|     0|\n",
      "|2020-01-24|Afghanistan|        0|        0|     0|\n",
      "|2020-01-25|Afghanistan|        0|        0|     0|\n",
      "|2020-01-26|Afghanistan|        0|        0|     0|\n",
      "|2020-01-27|Afghanistan|        0|        0|     0|\n",
      "|2020-01-28|Afghanistan|        0|        0|     0|\n",
      "|2020-01-29|Afghanistan|        0|        0|     0|\n",
      "|2020-01-30|Afghanistan|        0|        0|     0|\n",
      "|2020-01-31|Afghanistan|        0|        0|     0|\n",
      "+----------+-----------+---------+---------+------+\n",
      "only showing top 10 rows\n",
      "\n"
     ]
    }
   ],
   "source": [
    "initial_data.show(10)"
   ]
  },
  {
   "cell_type": "code",
   "execution_count": 3,
   "id": "electric-cross",
   "metadata": {},
   "outputs": [
    {
     "name": "stdout",
     "output_type": "stream",
     "text": [
      "+-------------------+--------------+-----------+--------------+\n",
      "|            Country|sum(Recovered)|sum(Deaths)|sum(Confirmed)|\n",
      "+-------------------+--------------+-----------+--------------+\n",
      "|        Afghanistan|      17298848|     919586|      23067096|\n",
      "|            Albania|      21090178|     510948|      27057392|\n",
      "|            Algeria|      24301174|    1038079|      35377829|\n",
      "|            Andorra|       2915536|      39085|       3147489|\n",
      "|             Angola|       5452593|     164843|       6866562|\n",
      "|Antigua and Barbuda|        177019|       6369|        213435|\n",
      "|          Argentina|     657011328|   17152676|     744716612|\n",
      "|            Armenia|      48998628|    1018755|      54910091|\n",
      "|          Australia|       8532221|     318531|      11141026|\n",
      "|            Austria|     124034732|    2266093|     133714775|\n",
      "|         Azerbaijan|      64772122|     978819|      70854344|\n",
      "|            Bahamas|       2334485|      59370|       2832808|\n",
      "|            Bahrain|      45411669|     194704|      48311310|\n",
      "|         Bangladesh|     178139931|    3178985|     212199090|\n",
      "|           Barbados|        642122|       9212|        700381|\n",
      "|            Belarus|      82928216|     659634|      88286424|\n",
      "|            Belgium|       3797810|    7674909|     238670452|\n",
      "|             Belize|       2786865|      75601|       3127108|\n",
      "|              Benin|       1626398|      24755|       1814815|\n",
      "|             Bhutan|        266899|        206|        308003|\n",
      "+-------------------+--------------+-----------+--------------+\n",
      "only showing top 20 rows\n",
      "\n"
     ]
    }
   ],
   "source": [
    "aggregated_data = initial_data.groupBy(initial_data['Country']).agg({\"Confirmed\":\"sum\", \"Recovered\":\"sum\", \"Deaths\":\"sum\"}).orderBy(initial_data[\"Country\"])\n",
    "aggregated_data.show()"
   ]
  },
  {
   "cell_type": "code",
   "execution_count": 4,
   "id": "automotive-conditioning",
   "metadata": {},
   "outputs": [],
   "source": [
    "renamedAggData = aggregated_data.withColumnRenamed('sum(Recovered)', \"Total_Recovered\").withColumnRenamed('sum(Confirmed)', \"Total_Confirmed\").withColumnRenamed('sum(Deaths)', \"Total_Deaths\")"
   ]
  },
  {
   "cell_type": "code",
   "execution_count": 6,
   "id": "quiet-composition",
   "metadata": {},
   "outputs": [
    {
     "name": "stdout",
     "output_type": "stream",
     "text": [
      "+-------------------+---------------+------------+---------------+\n",
      "|            Country|Total_Recovered|Total_Deaths|Total_Confirmed|\n",
      "+-------------------+---------------+------------+---------------+\n",
      "|        Afghanistan|       17298848|      919586|       23067096|\n",
      "|            Albania|       21090178|      510948|       27057392|\n",
      "|            Algeria|       24301174|     1038079|       35377829|\n",
      "|            Andorra|        2915536|       39085|        3147489|\n",
      "|             Angola|        5452593|      164843|        6866562|\n",
      "|Antigua and Barbuda|         177019|        6369|         213435|\n",
      "|          Argentina|      657011328|    17152676|      744716612|\n",
      "|            Armenia|       48998628|     1018755|       54910091|\n",
      "|          Australia|        8532221|      318531|       11141026|\n",
      "|            Austria|      124034732|     2266093|      133714775|\n",
      "|         Azerbaijan|       64772122|      978819|       70854344|\n",
      "|            Bahamas|        2334485|       59370|        2832808|\n",
      "|            Bahrain|       45411669|      194704|       48311310|\n",
      "|         Bangladesh|      178139931|     3178985|      212199090|\n",
      "|           Barbados|         642122|        9212|         700381|\n",
      "|            Belarus|       82928216|      659634|       88286424|\n",
      "|            Belgium|        3797810|     7674909|      238670452|\n",
      "|             Belize|        2786865|       75601|        3127108|\n",
      "|              Benin|        1626398|       24755|        1814815|\n",
      "|             Bhutan|         266899|         206|         308003|\n",
      "+-------------------+---------------+------------+---------------+\n",
      "only showing top 20 rows\n",
      "\n"
     ]
    }
   ],
   "source": [
    "renamedAggData.show()"
   ]
  },
  {
   "cell_type": "code",
   "execution_count": 13,
   "id": "administrative-manchester",
   "metadata": {},
   "outputs": [],
   "source": [
    "renamedAggData.createOrReplaceTempView(\"CovidData\")"
   ]
  },
  {
   "cell_type": "code",
   "execution_count": 18,
   "id": "tired-andrew",
   "metadata": {},
   "outputs": [],
   "source": [
    "renamedAggData.repartition(2).write.mode(\"overwrite\").save(\"./data/covid_data.parquet\")"
   ]
  },
  {
   "cell_type": "code",
   "execution_count": 7,
   "id": "bottom-snapshot",
   "metadata": {},
   "outputs": [],
   "source": [
    "renamedAggData.write.format(\"jdbc\").options(url=\"jdbc:oracle:thin:@localhost:1521:orcl\",driver='oracle.jdbc.driver.OracleDriver',dbtable='CovidData',user='hr',password='hr').mode('append').save()"
   ]
  },
  {
   "cell_type": "code",
   "execution_count": null,
   "id": "blank-behavior",
   "metadata": {},
   "outputs": [],
   "source": []
  }
 ],
 "metadata": {
  "kernelspec": {
   "display_name": "Python 3",
   "language": "python",
   "name": "python3"
  },
  "language_info": {
   "codemirror_mode": {
    "name": "ipython",
    "version": 3
   },
   "file_extension": ".py",
   "mimetype": "text/x-python",
   "name": "python",
   "nbconvert_exporter": "python",
   "pygments_lexer": "ipython3",
   "version": "3.8.7"
  }
 },
 "nbformat": 4,
 "nbformat_minor": 5
}
